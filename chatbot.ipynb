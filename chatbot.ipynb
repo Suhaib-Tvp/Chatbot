{
  "cells": [
    {
      "cell_type": "markdown",
      "source": [
        "# ***FAQ CHATBOT***\n",
        "\n",
        "---\n"
      ],
      "metadata": {
        "id": "2aa-Hs_UOEis"
      }
    },
    {
      "cell_type": "markdown",
      "source": [
        "An FAQ chatbot can respond to user queries based on a predefined set of frequently asked questions  using Natural Language Processing (NLP). It understands different phrasings of the same question by using machine learning models like sentence embeddings (BERT) instead of simple keyword matching. This allows it to provide accurate, instant, and consistent responses while also supporting multi-turn conversations and entity recognition (NER). Advanced chatbots can also log interactions for analysis, improving efficiency and reducing human workload."
      ],
      "metadata": {
        "id": "gs-AdPfNQegc"
      }
    },
    {
      "cell_type": "markdown",
      "source": [
        "# **Importing Required Libraries**"
      ],
      "metadata": {
        "id": "MdV353RmN7yL"
      }
    },
    {
      "cell_type": "code",
      "source": [
        "import spacy\n",
        "import json\n",
        "from sentence_transformers import SentenceTransformer, util"
      ],
      "metadata": {
        "id": "XtdfseSrLu5b"
      },
      "execution_count": 1,
      "outputs": []
    },
    {
      "cell_type": "markdown",
      "source": [
        "# **Loading Predefined FAQs**"
      ],
      "metadata": {
        "id": "CiHZrI_jOZHn"
      }
    },
    {
      "cell_type": "code",
      "source": [
        "def load_faq():\n",
        "    return {\n",
        "        \"Hi\": \"Hello! How can I assist you today?\",\n",
        "        \"hello\":\"hello! How can I assist you today?\",\n",
        "        \"What is your name?\": \"My name is FAQ Chatbot.\",\n",
        "        \"I need help\": \"Sure, I'm here to help. What do you need assistance with?\",\n",
        "        \"Thanks\":\"Your welcome\",\n",
        "        \"What are your working hours?\": \"We are open from 9 AM to 6 PM, Monday to Friday.\",\n",
        "        \"How can I reset my password?\": \"You can reset your password by clicking on 'Forgot Password' on the login page.\",\n",
        "        \"Where is your office located?\": \"Our office is located at Thampanoor ,Trivandrum.\",\n",
        "        \"What is your refund policy?\": \"You can request a refund within 30 days of purchase.\",\n",
        "        \"How can I contact customer support?\": \"You can contact our support team via email at indship@gmail.com or call us at (123) 456-7890.\",\n",
        "        \"Do you offer international shipping?\": \"Yes, we offer international shipping. Delivery times vary based on location.\",\n",
        "        \"How do I track my order?\": \"You can track your order by entering your tracking number on our tracking page.\",\n",
        "        \"Can I cancel my order?\": \"You can cancel your order within 24 hours of placing it by contacting our support team.\",\n",
        "        \"What payment methods do you accept?\": \"We accept credit/debit cards, PayPal, and bank transfers.\",\n",
        "        \"How do I update my account information?\": \"You can update your account details by logging into your profile settings page.\",\n",
        "        \"Do you have a mobile app?\": \"Yes, our mobile app is available on both Android and iOS platforms.\",\n",
        "        \"What services do you offer?\": \"We offer a variety of services, including technical support, consultations, and training sessions.\",\n",
        "        \"How do I create an account?\": \"You can create an account by clicking 'Sign Up' on our homepage and following the registration steps.\",\n",
        "        \"Is my personal information secure?\": \"Yes, we use encryption and security measures to protect your personal information.\",\n",
        "        \"Do you provide discounts for students?\": \"Yes, we offer special discounts for students. Contact our support team for more details.\",\n",
        "        \"Can I change my subscription plan?\": \"Yes, you can upgrade or downgrade your subscription plan from your account settings.\",\n",
        "        \"How do I delete my account?\": \"To delete your account, go to settings and select 'Delete Account,' or contact support for assistance.\"\n",
        "    }"
      ],
      "metadata": {
        "id": "7b-u2UccL0pc"
      },
      "execution_count": 10,
      "outputs": []
    },
    {
      "cell_type": "markdown",
      "source": [
        "# **Saving Conversation Logs**"
      ],
      "metadata": {
        "id": "scOGuJnKOn3P"
      }
    },
    {
      "cell_type": "code",
      "source": [
        "\n",
        "def save_log(conversations):\n",
        "    with open(\"chat_log.json\", \"w\") as f:\n",
        "        json.dump(conversations, f, indent=4)"
      ],
      "metadata": {
        "id": "VifqboKPL9EI"
      },
      "execution_count": 3,
      "outputs": []
    },
    {
      "cell_type": "markdown",
      "source": [
        "# **The Main Chatbot Function**\n",
        "\n",
        "The chatbot() function initializes the spaCy NLP model for Named Entity Recognition(NER) ,And a pretrained BERT-based model (SentenceTransformer) for computing the sentence embeddings. It loads the FAQ dataset, encodes all FAQ questions into the embeddings,and enters to a loop to interact with the user . For each user query, it computes semantic similarity between query and stored FAQ embeddings using cosine similarity. If the best match exceeds a confidence threshold, it returns the corresponding FAQ answer; otherwise, it asks the user to rephrase. Additionally, it extracts named entities from the query and logs the conversation in a JSON file for future analysis.The chatbot continues to run until the user tyoe \"Exit\"."
      ],
      "metadata": {
        "id": "2hv7FCO5Oz6K"
      }
    },
    {
      "cell_type": "code",
      "execution_count": 4,
      "metadata": {
        "id": "paHpXwjY6cmo"
      },
      "outputs": [],
      "source": [
        "def chatbot():\n",
        "    nlp = spacy.load(\"en_core_web_sm\")\n",
        "    model = SentenceTransformer(\"all-MiniLM-L6-v2\")\n",
        "    faq = load_faq()\n",
        "    questions, answers = list(faq.keys()), list(faq.values())\n",
        "    question_embeddings = model.encode(questions, convert_to_tensor=True)\n",
        "    conversations = []\n",
        "\n",
        "    print(\"FAQ Chatbot: Type 'exit' to stop.\")\n",
        "    while True:\n",
        "        user_query = input(\"You: \").strip()\n",
        "        if user_query.lower() == 'exit':\n",
        "            print(\"Chatbot: Goodbye!\")\n",
        "            save_log(conversations)\n",
        "            break\n",
        "\n",
        "        query_embedding = model.encode(user_query, convert_to_tensor=True)\n",
        "        similarity_scores = util.pytorch_cos_sim(query_embedding, question_embeddings)[0]\n",
        "        best_match_idx = similarity_scores.argmax().item()\n",
        "        confidence = similarity_scores[best_match_idx].item()\n",
        "\n",
        "        if confidence > 0.5:\n",
        "            response = answers[best_match_idx]\n",
        "        else:\n",
        "            response = \"I'm not sure. Could you rephrase your question?\"\n",
        "\n",
        "        print(f\"Chatbot: {response}\")\n",
        "        conversations.append({\"User\": user_query, \"Chatbot\": response})\n",
        "\n",
        "        # Named Entity Recognition (NER)\n",
        "        entities = [(ent.text, ent.label_) for ent in nlp(user_query).ents]\n",
        "        if entities:\n",
        "            print(f\"(Recognized Entities: {entities})\")\n"
      ]
    },
    {
      "cell_type": "markdown",
      "source": [
        "#  Running the Chatbot\n",
        "\n",
        "This ensures that the chatbot runs only when the script is executed, not when imported as a module .\n"
      ],
      "metadata": {
        "id": "eKK3F88RO2XW"
      }
    },
    {
      "cell_type": "code",
      "source": [
        "if __name__ == \"__main__\":\n",
        "    chatbot()\n"
      ],
      "metadata": {
        "id": "QIZMMXdAMJta",
        "colab": {
          "base_uri": "https://localhost:8080/",
          "height": 0
        },
        "outputId": "7ca3bc45-764e-43a1-beef-d39f9bb5b4e3"
      },
      "execution_count": 11,
      "outputs": [
        {
          "output_type": "stream",
          "name": "stdout",
          "text": [
            "FAQ Chatbot: Type 'exit' to stop.\n",
            "You: hello\n",
            "Chatbot: hello! How can I assist you today?\n",
            "You: whats your name\n",
            "Chatbot: My name is FAQ Chatbot.\n",
            "You: i need help\n",
            "Chatbot: Sure, I'm here to help. What do you need assistance with?\n",
            "You: i forgot my password\n",
            "Chatbot: You can reset your password by clicking on 'Forgot Password' on the login page.\n",
            "You: i need customer care number\n",
            "Chatbot: You can contact our support team via email at indship@gmail.com or call us at (123) 456-7890.\n",
            "You: thanks\n",
            "Chatbot: Your welcome\n",
            "You: \"Can I cancel my order?\n",
            "Chatbot: You can cancel your order within 24 hours of placing it by contacting our support team.\n",
            "You: Do you provide discounts for students?\n",
            "Chatbot: Yes, we offer special discounts for students. Contact our support team for more details.\n",
            "You: exit\n",
            "Chatbot: Goodbye!\n"
          ]
        }
      ]
    }
  ],
  "metadata": {
    "colab": {
      "provenance": []
    },
    "kernelspec": {
      "display_name": "Python 3",
      "name": "python3"
    },
    "language_info": {
      "name": "python"
    }
  },
  "nbformat": 4,
  "nbformat_minor": 0
}